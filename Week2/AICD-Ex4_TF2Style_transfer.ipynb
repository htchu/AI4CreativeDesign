{
  "nbformat": 4,
  "nbformat_minor": 0,
  "metadata": {
    "accelerator": "GPU",
    "colab": {
      "name": "Ex1-TF2Style_transfer.ipynb",
      "provenance": [],
      "collapsed_sections": [],
      "toc_visible": true
    },
    "kernelspec": {
      "display_name": "Python 3",
      "name": "python3"
    }
  },
  "cells": [
    {
      "cell_type": "markdown",
      "metadata": {
        "id": "g_nWetWWd_ns"
      },
      "source": [
        "# 深度學習模型進行『風格轉換』(Style Transfer)\n",
        "\n",
        "![Style Transfer](https://ithelp.ithome.com.tw/upload/images/20171208/20001976DytMaXo2O0.png) \n",
        "\n",
        "* 內容圖片稱為Content Image(C)\n",
        "* 風格圖片稱為Style Image(S)\n",
        "* 合成圖片稱為Generated Image (G)"
      ]
    },
    {
      "cell_type": "markdown",
      "metadata": {
        "id": "U8ajP_u73s6m"
      },
      "source": [
        "## Step 1: 設定(Setup)\n"
      ]
    },
    {
      "cell_type": "markdown",
      "metadata": {
        "id": "eqxUicSPUOP6"
      },
      "source": [
        "### Import and configure modules"
      ]
    },
    {
      "cell_type": "code",
      "metadata": {
        "id": "NyftRTSMuwue"
      },
      "source": [
        "import os\n",
        "import tensorflow as tf\n",
        "# Load compressed models from tensorflow_hub\n",
        "os.environ['TFHUB_MODEL_LOAD_FORMAT'] = 'COMPRESSED'"
      ],
      "execution_count": null,
      "outputs": []
    },
    {
      "cell_type": "code",
      "metadata": {
        "id": "sc1OLbOWhPCO"
      },
      "source": [
        "import IPython.display as display\n",
        "\n",
        "import matplotlib.pyplot as plt\n",
        "import matplotlib as mpl\n",
        "mpl.rcParams['figure.figsize'] = (12, 12)\n",
        "mpl.rcParams['axes.grid'] = False\n",
        "\n",
        "import numpy as np\n",
        "import PIL.Image\n",
        "import time\n",
        "import functools"
      ],
      "execution_count": null,
      "outputs": []
    },
    {
      "cell_type": "code",
      "metadata": {
        "id": "GM6VEGrGLh62"
      },
      "source": [
        "def tensor_to_image(tensor):\n",
        "  tensor = tensor*255\n",
        "  tensor = np.array(tensor, dtype=np.uint8)\n",
        "  if np.ndim(tensor)>3:\n",
        "    assert tensor.shape[0] == 1\n",
        "    tensor = tensor[0]\n",
        "  return PIL.Image.fromarray(tensor)"
      ],
      "execution_count": null,
      "outputs": []
    },
    {
      "cell_type": "markdown",
      "metadata": {
        "id": "xE4Yt8nArTeR"
      },
      "source": [
        "## Step 2: 輸入秀圖的函數( Functions for visualizing the input)"
      ]
    },
    {
      "cell_type": "markdown",
      "metadata": {
        "id": "klh6ObK2t_vH"
      },
      "source": [
        "Define a function to load an image and limit its maximum dimension to 512 pixels."
      ]
    },
    {
      "cell_type": "code",
      "metadata": {
        "id": "3TLljcwv5qZs"
      },
      "source": [
        "def load_img(path_to_img):\n",
        "  max_dim = 512\n",
        "  img = tf.io.read_file(path_to_img)\n",
        "  img = tf.image.decode_image(img, channels=3)\n",
        "  img = tf.image.convert_image_dtype(img, tf.float32)\n",
        "\n",
        "  shape = tf.cast(tf.shape(img)[:-1], tf.float32)\n",
        "  long_dim = max(shape)\n",
        "  scale = max_dim / long_dim\n",
        "\n",
        "  new_shape = tf.cast(shape * scale, tf.int32)\n",
        "\n",
        "  img = tf.image.resize(img, new_shape)\n",
        "  img = img[tf.newaxis, :]\n",
        "  return img"
      ],
      "execution_count": null,
      "outputs": []
    },
    {
      "cell_type": "markdown",
      "metadata": {
        "id": "2yAlRzJZrWM3"
      },
      "source": [
        "Create a simple function to display an image:"
      ]
    },
    {
      "cell_type": "code",
      "metadata": {
        "id": "cBX-eNT8PAK_"
      },
      "source": [
        "def imshow(image, title=None):\n",
        "  if len(image.shape) > 3:\n",
        "    image = tf.squeeze(image, axis=0)\n",
        "\n",
        "  plt.imshow(image)\n",
        "  if title:\n",
        "    plt.title(title)"
      ],
      "execution_count": null,
      "outputs": []
    },
    {
      "cell_type": "markdown",
      "metadata": {
        "id": "YMzChXSlKTA2"
      },
      "source": [
        "## Step 3: 從TF-Hub讀入風格轉換的深度學習模型(Load a DL model of Style Transfer using TF-Hub)\n",
        "\n",
        "This tutorial demonstrates the original style-transfer algorithm, which optimizes the image content to a particular style. Before getting into the details, let's see how the [TensorFlow Hub model](https://tfhub.dev/google/magenta/arbitrary-image-stylization-v1-256/2) does this:"
      ]
    },
    {
      "cell_type": "code",
      "metadata": {
        "id": "iYSLexgRKSh-"
      },
      "source": [
        "import tensorflow_hub as hub\n",
        "hub_model = hub.load('https://tfhub.dev/google/magenta/arbitrary-image-stylization-v1-256/2')"
      ],
      "execution_count": null,
      "outputs": []
    },
    {
      "cell_type": "markdown",
      "metadata": {
        "id": "AYyf_LHZCe64"
      },
      "source": [
        "## Step 4:  選擇內容圖片( Selecting one of content images)\n",
        "![News 1](https://www.asia.edu.tw/upload/news/2021/03/20/2021032022.jpg) \n",
        "![News 2](https://www.asia.edu.tw/upload/news/2021/03/2021032512.jpg) \n",
        "![News 3](https://www.asia.edu.tw/upload/news/2021/02/17/2021021724.jpg) \n",
        "\n"
      ]
    },
    {
      "cell_type": "markdown",
      "metadata": {
        "id": "y8Tefl3nDIgg"
      },
      "source": [
        "## tf.keras.utils.get_file\n",
        "https://www.tensorflow.org/api_docs/python/tf/keras/utils/get_file\n",
        "\n",
        "```\n",
        "tf.keras.utils.get_file(\n",
        "    fname, origin, untar=False, md5_hash=None, file_hash=None,\n",
        "    cache_subdir='datasets', hash_algorithm='auto',\n",
        "    extract=False, archive_format='auto', cache_dir=None\n",
        ")\n",
        "```"
      ]
    },
    {
      "cell_type": "code",
      "metadata": {
        "id": "6Ir4kTzGDwCo"
      },
      "source": [
        "#https://www.asia.edu.tw/upload/news/2021/03/20/2021032022.jpg\n",
        "#https://www.asia.edu.tw/upload/news/2021/03/2021032512.jpg\n",
        "#https://www.asia.edu.tw/upload/news/2021/02/17/2021021724.jpg\n",
        "content_path = tf.keras.utils.get_file('pic1.jpg', 'https://www.asia.edu.tw/upload/news/2021/03/20/2021032022.jpg')\n"
      ],
      "execution_count": null,
      "outputs": []
    },
    {
      "cell_type": "markdown",
      "metadata": {
        "id": "_dHX4bdoEuG7"
      },
      "source": [
        "## Step 5: 選擇風格圖片(Selecting one of style images)\n",
        "![Style 1](https://cdn.britannica.com/78/43678-050-F4DC8D93/Starry-Night-canvas-Vincent-van-Gogh-New-1889.jpg) \n",
        "![Style 2](https://cdn.britannica.com/66/133466-050-694792D2/Bouquet-Flowers-oil-Vase-canvas-Vincent-van.jpg) \n",
        "![Style 3](https://cdn.britannica.com/47/134047-050-EE6B3151/Landscape-oil-canvas-Saint-Remy-Vincent-van-Gogh-1889.jpg) \n",
        "\n",
        "更多....\n",
        "https://www.britannica.com/biography/Vincent-van-Gogh"
      ]
    },
    {
      "cell_type": "code",
      "metadata": {
        "id": "pAWC0ucMFg08"
      },
      "source": [
        "#https://cdn.britannica.com/78/43678-050-F4DC8D93/Starry-Night-canvas-Vincent-van-Gogh-New-1889.jpg\n",
        "#https://cdn.britannica.com/66/133466-050-694792D2/Bouquet-Flowers-oil-Vase-canvas-Vincent-van.jpg\n",
        "#https://cdn.britannica.com/47/134047-050-EE6B3151/Landscape-oil-canvas-Saint-Remy-Vincent-van-Gogh-1889.jpg\n",
        "\n",
        "style_path = tf.keras.utils.get_file('pic2.jpg', 'https://cdn.britannica.com/78/43678-050-F4DC8D93/Starry-Night-canvas-Vincent-van-Gogh-New-1889.jpg')"
      ],
      "execution_count": null,
      "outputs": []
    },
    {
      "cell_type": "code",
      "metadata": {
        "id": "_UWQmeEaiKkP"
      },
      "source": [
        "content_image = load_img(content_path)\n",
        "style_image = load_img(style_path)\n",
        "\n",
        "plt.subplot(1, 2, 1)\n",
        "imshow(content_image, 'Content Image')\n",
        "\n",
        "plt.subplot(1, 2, 2)\n",
        "imshow(style_image, 'Style Image')"
      ],
      "execution_count": null,
      "outputs": []
    },
    {
      "cell_type": "markdown",
      "metadata": {
        "id": "gEIGZWepGxCn"
      },
      "source": [
        "## Step 6: 產生風格轉換的影像 (Generate style-transfered images)"
      ]
    },
    {
      "cell_type": "code",
      "metadata": {
        "id": "7_7adMzDGz0r"
      },
      "source": [
        "stylized_image = hub_model(tf.constant(content_image), tf.constant(style_image))[0]\n",
        "tensor_to_image(stylized_image)"
      ],
      "execution_count": null,
      "outputs": []
    }
  ]
}