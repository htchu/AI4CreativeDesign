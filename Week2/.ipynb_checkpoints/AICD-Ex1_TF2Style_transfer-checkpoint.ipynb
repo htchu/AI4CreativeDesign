{
 "cells": [
  {
   "cell_type": "markdown",
   "metadata": {
    "id": "g_nWetWWd_ns"
   },
   "source": [
    "# 深度學習模型進行『風格轉換』(Style Transfer)\n",
    "\n",
    "![Style Transfer](https://ithelp.ithome.com.tw/upload/images/20171208/20001976DytMaXo2O0.png) \n",
    "\n",
    "* 內容圖片稱為Content Image(C)\n",
    "* 風格圖片稱為Style Image(S)\n",
    "* 合成圖片稱為Generated Image (G)"
   ]
  },
  {
   "cell_type": "markdown",
   "metadata": {
    "id": "U8ajP_u73s6m"
   },
   "source": [
    "## Step 1: 設定(Setup)\n"
   ]
  },
  {
   "cell_type": "markdown",
   "metadata": {
    "id": "eqxUicSPUOP6"
   },
   "source": [
    "### Import and configure modules"
   ]
  },
  {
   "cell_type": "code",
   "execution_count": 1,
   "metadata": {
    "id": "NyftRTSMuwue"
   },
   "outputs": [
    {
     "ename": "ModuleNotFoundError",
     "evalue": "No module named 'tensorflow'",
     "output_type": "error",
     "traceback": [
      "\u001b[1;31m---------------------------------------------------------------------------\u001b[0m",
      "\u001b[1;31mModuleNotFoundError\u001b[0m                       Traceback (most recent call last)",
      "\u001b[1;32m~\\AppData\\Local\\Temp/ipykernel_34196/3581412978.py\u001b[0m in \u001b[0;36m<module>\u001b[1;34m\u001b[0m\n\u001b[0;32m      1\u001b[0m \u001b[1;32mimport\u001b[0m \u001b[0mos\u001b[0m\u001b[1;33m\u001b[0m\u001b[1;33m\u001b[0m\u001b[0m\n\u001b[1;32m----> 2\u001b[1;33m \u001b[1;32mimport\u001b[0m \u001b[0mtensorflow\u001b[0m \u001b[1;32mas\u001b[0m \u001b[0mtf\u001b[0m\u001b[1;33m\u001b[0m\u001b[1;33m\u001b[0m\u001b[0m\n\u001b[0m\u001b[0;32m      3\u001b[0m \u001b[1;31m# Load compressed models from tensorflow_hub\u001b[0m\u001b[1;33m\u001b[0m\u001b[1;33m\u001b[0m\u001b[0m\n\u001b[0;32m      4\u001b[0m \u001b[0mos\u001b[0m\u001b[1;33m.\u001b[0m\u001b[0menviron\u001b[0m\u001b[1;33m[\u001b[0m\u001b[1;34m'TFHUB_MODEL_LOAD_FORMAT'\u001b[0m\u001b[1;33m]\u001b[0m \u001b[1;33m=\u001b[0m \u001b[1;34m'COMPRESSED'\u001b[0m\u001b[1;33m\u001b[0m\u001b[1;33m\u001b[0m\u001b[0m\n",
      "\u001b[1;31mModuleNotFoundError\u001b[0m: No module named 'tensorflow'"
     ]
    }
   ],
   "source": [
    "import os\n",
    "import tensorflow as tf\n",
    "# Load compressed models from tensorflow_hub\n",
    "os.environ['TFHUB_MODEL_LOAD_FORMAT'] = 'COMPRESSED'"
   ]
  },
  {
   "cell_type": "code",
   "execution_count": null,
   "metadata": {
    "id": "sc1OLbOWhPCO"
   },
   "outputs": [],
   "source": [
    "import IPython.display as display\n",
    "\n",
    "import matplotlib.pyplot as plt\n",
    "import matplotlib as mpl\n",
    "mpl.rcParams['figure.figsize'] = (12, 12)\n",
    "mpl.rcParams['axes.grid'] = False\n",
    "\n",
    "import numpy as np\n",
    "import PIL.Image\n",
    "import time\n",
    "import functools"
   ]
  },
  {
   "cell_type": "code",
   "execution_count": null,
   "metadata": {
    "id": "GM6VEGrGLh62"
   },
   "outputs": [],
   "source": [
    "def tensor_to_image(tensor):\n",
    "  tensor = tensor*255\n",
    "  tensor = np.array(tensor, dtype=np.uint8)\n",
    "  if np.ndim(tensor)>3:\n",
    "    assert tensor.shape[0] == 1\n",
    "    tensor = tensor[0]\n",
    "  return PIL.Image.fromarray(tensor)"
   ]
  },
  {
   "cell_type": "markdown",
   "metadata": {
    "id": "xE4Yt8nArTeR"
   },
   "source": [
    "## Step 2: 輸入秀圖的函數( Functions for visualizing the input)"
   ]
  },
  {
   "cell_type": "markdown",
   "metadata": {
    "id": "klh6ObK2t_vH"
   },
   "source": [
    "Define a function to load an image and limit its maximum dimension to 512 pixels."
   ]
  },
  {
   "cell_type": "code",
   "execution_count": null,
   "metadata": {
    "id": "3TLljcwv5qZs"
   },
   "outputs": [],
   "source": [
    "def load_img(path_to_img):\n",
    "  max_dim = 512\n",
    "  img = tf.io.read_file(path_to_img)\n",
    "  img = tf.image.decode_image(img, channels=3)\n",
    "  img = tf.image.convert_image_dtype(img, tf.float32)\n",
    "\n",
    "  shape = tf.cast(tf.shape(img)[:-1], tf.float32)\n",
    "  long_dim = max(shape)\n",
    "  scale = max_dim / long_dim\n",
    "\n",
    "  new_shape = tf.cast(shape * scale, tf.int32)\n",
    "\n",
    "  img = tf.image.resize(img, new_shape)\n",
    "  img = img[tf.newaxis, :]\n",
    "  return img"
   ]
  },
  {
   "cell_type": "markdown",
   "metadata": {
    "id": "2yAlRzJZrWM3"
   },
   "source": [
    "Create a simple function to display an image:"
   ]
  },
  {
   "cell_type": "code",
   "execution_count": null,
   "metadata": {
    "id": "cBX-eNT8PAK_"
   },
   "outputs": [],
   "source": [
    "def imshow(image, title=None):\n",
    "  if len(image.shape) > 3:\n",
    "    image = tf.squeeze(image, axis=0)\n",
    "\n",
    "  plt.imshow(image)\n",
    "  if title:\n",
    "    plt.title(title)"
   ]
  },
  {
   "cell_type": "markdown",
   "metadata": {
    "id": "YMzChXSlKTA2"
   },
   "source": [
    "## Step 3: 從TF-Hub讀入風格轉換的深度學習模型(Load a DL model of Style Transfer using TF-Hub)\n",
    "\n",
    "This tutorial demonstrates the original style-transfer algorithm, which optimizes the image content to a particular style. Before getting into the details, let's see how the [TensorFlow Hub model](https://tfhub.dev/google/magenta/arbitrary-image-stylization-v1-256/2) does this:"
   ]
  },
  {
   "cell_type": "code",
   "execution_count": null,
   "metadata": {
    "id": "iYSLexgRKSh-"
   },
   "outputs": [],
   "source": [
    "import tensorflow_hub as hub\n",
    "hub_model = hub.load('https://tfhub.dev/google/magenta/arbitrary-image-stylization-v1-256/2')"
   ]
  },
  {
   "cell_type": "markdown",
   "metadata": {
    "id": "AYyf_LHZCe64"
   },
   "source": [
    "## Step 4:  選擇內容圖片( Selecting one of content images)\n",
    "![News 1](https://www.asia.edu.tw/uploads/album_image/file/61c41e1f8199fbfb00749344/theater_%E5%BA%8F-%E6%95%99%E8%82%B2%E5%AE%97%E6%97%A8-%E6%8F%9B%E5%9C%96.jpg) \n",
    "![News 2](https://www.asia.edu.tw/uploads/album_image/file/61c41e208199fbfafaea19d2/theater_%E6%A0%A1%E5%9C%92%E8%8A%B1%E6%99%AF_191016_0003_0.jpg) \n",
    "![News 3](https://www.asia.edu.tw/uploads/album_image/file/61c41e1f8199fbfafaea19c9/theater_03-%E4%BA%9E%E6%B4%B2%E5%A4%A7%E5%AD%B8%E7%8F%BE%E4%BB%A3%E7%BE%8E%E8%A1%93%E9%A4%A8%E5%89%8D%E6%9C%89%E6%B3%95%E5%9C%8B%E8%97%9D%E8%A1%93%E5%AE%B6%E7%BE%85%E4%B8%B9%E7%9A%84_%E6%B2%89%E6%80%9D%E8%80%85_%E5%A4%A7%E5%9E%8B%E9%9B%95%E5%A1%91%E5%93%81_%E6%98%AF%E6%96%B0%E6%98%A5%E5%88%B0%E4%BA%9E%E5%A4%A7%E5%BF%85%E7%9C%8B%E6%99%AF%E9%BB%9E.jpg) \n",
    "\n"
   ]
  },
  {
   "cell_type": "markdown",
   "metadata": {
    "id": "y8Tefl3nDIgg"
   },
   "source": [
    "## tf.keras.utils.get_file\n",
    "https://www.tensorflow.org/api_docs/python/tf/keras/utils/get_file\n",
    "\n",
    "```\n",
    "tf.keras.utils.get_file(\n",
    "    fname, origin, untar=False, md5_hash=None, file_hash=None,\n",
    "    cache_subdir='datasets', hash_algorithm='auto',\n",
    "    extract=False, archive_format='auto', cache_dir=None\n",
    ")\n",
    "```"
   ]
  },
  {
   "cell_type": "code",
   "execution_count": null,
   "metadata": {
    "id": "6Ir4kTzGDwCo"
   },
   "outputs": [],
   "source": [
    "#https://www.asia.edu.tw/uploads/album_image/file/61c41e1f8199fbfb00749344/theater_%E5%BA%8F-%E6%95%99%E8%82%B2%E5%AE%97%E6%97%A8-%E6%8F%9B%E5%9C%96.jpg) \n",
    "#https://www.asia.edu.tw/uploads/album_image/file/61c41e208199fbfafaea19d2/theater_%E6%A0%A1%E5%9C%92%E8%8A%B1%E6%99%AF_191016_0003_0.jpg \n",
    "#https://www.asia.edu.tw/uploads/album_image/file/61c41e1f8199fbfafaea19c9/theater_03-%E4%BA%9E%E6%B4%B2%E5%A4%A7%E5%AD%B8%E7%8F%BE%E4%BB%A3%E7%BE%8E%E8%A1%93%E9%A4%A8%E5%89%8D%E6%9C%89%E6%B3%95%E5%9C%8B%E8%97%9D%E8%A1%93%E5%AE%B6%E7%BE%85%E4%B8%B9%E7%9A%84_%E6%B2%89%E6%80%9D%E8%80%85_%E5%A4%A7%E5%9E%8B%E9%9B%95%E5%A1%91%E5%93%81_%E6%98%AF%E6%96%B0%E6%98%A5%E5%88%B0%E4%BA%9E%E5%A4%A7%E5%BF%85%E7%9C%8B%E6%99%AF%E9%BB%9E.jpg\n",
    "content_path = tf.keras.utils.get_file('pic1.jpg', 'https://www.asia.edu.tw/uploads/album_image/file/61c41e1f8199fbfb00749344/theater_%E5%BA%8F-%E6%95%99%E8%82%B2%E5%AE%97%E6%97%A8-%E6%8F%9B%E5%9C%96.jpg')\n"
   ]
  },
  {
   "cell_type": "markdown",
   "metadata": {
    "id": "_dHX4bdoEuG7"
   },
   "source": [
    "## Step 5: 選擇風格圖片(Selecting one of style images)\n",
    "![Style 1](https://cdn.britannica.com/78/43678-050-F4DC8D93/Starry-Night-canvas-Vincent-van-Gogh-New-1889.jpg) \n",
    "![Style 2](https://cdn.britannica.com/66/133466-050-694792D2/Bouquet-Flowers-oil-Vase-canvas-Vincent-van.jpg) \n",
    "![Style 3](https://cdn.britannica.com/47/134047-050-EE6B3151/Landscape-oil-canvas-Saint-Remy-Vincent-van-Gogh-1889.jpg) \n",
    "\n",
    "更多....\n",
    "https://www.britannica.com/biography/Vincent-van-Gogh"
   ]
  },
  {
   "cell_type": "code",
   "execution_count": null,
   "metadata": {
    "id": "pAWC0ucMFg08"
   },
   "outputs": [],
   "source": [
    "#https://cdn.britannica.com/78/43678-050-F4DC8D93/Starry-Night-canvas-Vincent-van-Gogh-New-1889.jpg\n",
    "#https://cdn.britannica.com/66/133466-050-694792D2/Bouquet-Flowers-oil-Vase-canvas-Vincent-van.jpg\n",
    "#https://cdn.britannica.com/47/134047-050-EE6B3151/Landscape-oil-canvas-Saint-Remy-Vincent-van-Gogh-1889.jpg\n",
    "\n",
    "style_path = tf.keras.utils.get_file('pic2.jpg', 'https://cdn.britannica.com/78/43678-050-F4DC8D93/Starry-Night-canvas-Vincent-van-Gogh-New-1889.jpg')"
   ]
  },
  {
   "cell_type": "code",
   "execution_count": null,
   "metadata": {
    "id": "_UWQmeEaiKkP"
   },
   "outputs": [],
   "source": [
    "content_image = load_img(content_path)\n",
    "style_image = load_img(style_path)\n",
    "\n",
    "plt.subplot(1, 2, 1)\n",
    "imshow(content_image, 'Content Image')\n",
    "\n",
    "plt.subplot(1, 2, 2)\n",
    "imshow(style_image, 'Style Image')"
   ]
  },
  {
   "cell_type": "markdown",
   "metadata": {
    "id": "gEIGZWepGxCn"
   },
   "source": [
    "## Step 6: 產生風格轉換的影像 (Generate style-transfered images)"
   ]
  },
  {
   "cell_type": "code",
   "execution_count": null,
   "metadata": {
    "id": "7_7adMzDGz0r"
   },
   "outputs": [],
   "source": [
    "stylized_image = hub_model(tf.constant(content_image), tf.constant(style_image))[0]\n",
    "tensor_to_image(stylized_image)"
   ]
  }
 ],
 "metadata": {
  "accelerator": "GPU",
  "colab": {
   "collapsed_sections": [],
   "name": "Ex1-TF2Style_transfer.ipynb",
   "provenance": [],
   "toc_visible": true
  },
  "kernelspec": {
   "display_name": "Python 3 (ipykernel)",
   "language": "python",
   "name": "python3"
  },
  "language_info": {
   "codemirror_mode": {
    "name": "ipython",
    "version": 3
   },
   "file_extension": ".py",
   "mimetype": "text/x-python",
   "name": "python",
   "nbconvert_exporter": "python",
   "pygments_lexer": "ipython3",
   "version": "3.9.7"
  }
 },
 "nbformat": 4,
 "nbformat_minor": 1
}
